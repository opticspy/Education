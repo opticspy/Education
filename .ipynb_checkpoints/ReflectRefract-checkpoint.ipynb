{
 "cells": [
  {
   "cell_type": "code",
   "execution_count": 1,
   "metadata": {},
   "outputs": [
    {
     "name": "stdout",
     "output_type": "stream",
     "text": [
      "Check if LightPipes has been installed. If not, install it!\n",
      "Requirement already satisfied: lightpipes in c:\\users\\fred\\anaconda3\\lib\\site-packages (1.1.3)\n"
     ]
    }
   ],
   "source": [
    "print(\"Check if LightPipes has been installed. If not, install it!\")\n",
    "!pip install lightpipes\n"
   ]
  },
  {
   "cell_type": "code",
   "execution_count": 5,
   "metadata": {},
   "outputs": [
    {
     "data": {
      "text/html": [
       "\n",
       "        <script>\n",
       "                code_show=true; \n",
       "                function code_toggle() \n",
       "                {\n",
       "                     if (code_show)\n",
       "                     {\n",
       "                         $('div.input').hide();\n",
       "                     } else\n",
       "                     {\n",
       "                         $('div.input').show();\n",
       "                     }\n",
       "                     code_show = !code_show\n",
       "                } \n",
       "                $( document ).ready(code_toggle);\n",
       "        </script>\n",
       "        The raw code for this IPython notebook is by default hidden for easier reading.\n",
       "        To toggle on/off the raw code, click <a href=\"javascript:code_toggle()\">here</a>.\n",
       "        "
      ],
      "text/plain": [
       "<IPython.core.display.HTML object>"
      ]
     },
     "execution_count": 5,
     "metadata": {},
     "output_type": "execute_result"
    }
   ],
   "source": [
    "from IPython.display import HTML\n",
    "HTML('''\n",
    "        <script>\n",
    "                code_show=true; \n",
    "                function code_toggle() \n",
    "                {\n",
    "                     if (code_show)\n",
    "                     {\n",
    "                         $('div.input').hide();\n",
    "                     } else\n",
    "                     {\n",
    "                         $('div.input').show();\n",
    "                     }\n",
    "                     code_show = !code_show\n",
    "                } \n",
    "                $( document ).ready(code_toggle);\n",
    "        </script>\n",
    "        The raw code for this IPython notebook is by default hidden for easier reading.\n",
    "        To toggle on/off the raw code, click <a href=\"javascript:code_toggle()\">here</a>.\n",
    "        ''')"
   ]
  },
  {
   "cell_type": "code",
   "execution_count": 10,
   "metadata": {},
   "outputs": [
    {
     "data": {
      "application/javascript": [
       "IPython.notebook.execute_cells_below()"
      ],
      "text/plain": [
       "<IPython.core.display.Javascript object>"
      ]
     },
     "metadata": {},
     "output_type": "display_data"
    },
    {
     "data": {
      "application/vnd.jupyter.widget-view+json": {
       "model_id": "3cef07fdc4e449039e8ea571c2a91fa2",
       "version_major": 2,
       "version_minor": 0
      },
      "text/plain": [
       "Button(description='Start simulation', style=ButtonStyle(button_color='lightgreen'))"
      ]
     },
     "metadata": {},
     "output_type": "display_data"
    }
   ],
   "source": [
    "import ipywidgets as widgets\n",
    "from IPython.display import Javascript, display\n",
    "def run_all(ev):\n",
    "    display(Javascript('IPython.notebook.execute_cells_below()'))\n",
    "button = widgets.Button(description=\"Start simulation\")\n",
    "button.style.button_color = 'lightgreen'\n",
    "button.on_click(run_all)\n",
    "display(button)"
   ]
  },
  {
   "cell_type": "code",
   "execution_count": 11,
   "metadata": {},
   "outputs": [
    {
     "data": {
      "image/png": "[encoded data removed]",
      "text/plain": [
       "<Figure size 288x432 with 2 Axes>"
      ]
     },
     "metadata": {},
     "output_type": "display_data"
    }
   ],
   "source": [
    "%matplotlib inline\n",
    "#!/usr/bin/env python\n",
    "\"\"\"\n",
    "    Computer practical 2. Internal reflection and refraction.\n",
    "    =========================================================\n",
    "\n",
    "    This is part of the 'computer practical' set of assignments.\n",
    "    Demonstrates internal reflection and refraction.\n",
    "    Find the Brewster- and critical angle and from this determine\n",
    "    the refractice index of the glass.\n",
    "\"\"\"\n",
    "import matplotlib\n",
    "from matplotlib.backends.backend_tkagg import FigureCanvasTkAgg\n",
    "import matplotlib.pyplot as plt\n",
    "import matplotlib.image as mpimg\n",
    "import sys\n",
    "import math\n",
    "import webbrowser\n",
    "\n",
    "\n",
    "if sys.version_info[0] < 3:\n",
    "    from Tkinter import *\n",
    "    import Tkinter as Tk\n",
    "else:\n",
    "    from tkinter import *\n",
    "    import tkinter as Tk\n",
    "from LightPipes import *\n",
    "\n",
    "root = Tk.Tk()\n",
    "root.wm_title(\"Computer practical: 2. Internal reflection and refraction.        LP-version = \" + LPversion)\n",
    "root.wm_protocol(\"WM_DELETE_WINDOW\", root.quit)\n",
    "\n",
    "deg=1.0\n",
    "wavelength=632.8*nm;\n",
    "Nair = 1.0;\n",
    "Nglass = 1.53\n",
    "PhiPol=79.0*deg\n",
    "PhiIn=40.0*deg\n",
    "size = 5.0*mm;\n",
    "N=100\n",
    "\n",
    "fig=plt.figure(figsize=(4,6))\n",
    "ax1 = fig.add_subplot(211)\n",
    "ax2 = fig.add_subplot(212)\n",
    "\n",
    "\n",
    "phipol = DoubleVar()\n",
    "phiin = DoubleVar()\n",
    "v=StringVar()\n",
    "phipol.set(PhiPol)\n",
    "phiin.set(PhiIn)\n",
    "canvas = FigureCanvasTkAgg(fig, master=root)\n",
    "canvas._tkcanvas.pack(side=Tk.LEFT, fill=Tk.BOTH, expand=1)\n",
    "\n",
    "def TheExample(event):\n",
    "    rad = math.pi/180.0\n",
    "    F=Begin(size,wavelength,N)\n",
    "    PhiIn=phiin.get()\n",
    "    PhiPol=phipol.get()\n",
    "    I_s = math.pow(math.sin(PhiPol * rad), 2.0)\n",
    "    I_p = math.pow(math.cos(PhiPol * rad), 2.0)\n",
    "    PIn = PhiIn * rad\n",
    "    P = Nglass * math.sin(PIn) / Nair\n",
    "    if (P >= 1.0):\n",
    "        T_s = 0.0\n",
    "        T_p = 0.0\n",
    "    else:\n",
    "        PhiT = math.asin(P);\n",
    "        if (PIn == 0.0 and PhiT == 0.0):\n",
    "            T_s = 4.0 * Nair * Nglass/math.pow(Nair + Nglass,2.0);\n",
    "            T_p = T_s;\n",
    "        else:\n",
    "            T_s = Nair * math.cos(PhiT) * math.cos(PIn) / Nglass * math.pow(2.0*math.sin(PhiT) / math.sin(PIn + PhiT), 2.0);\n",
    "            T_p = Nair * math.cos(PhiT) * math.cos(PIn) / Nglass * math.pow(2.0*math.sin(PhiT) / (math.sin(PIn + PhiT)*math.cos(PIn - PhiT)), 2.0);\n",
    "    R_s = 1.0 - T_s;\n",
    "    R_p = 1.0 - T_p;\n",
    "    I_T = T_s * I_s + T_p * I_p;\n",
    "    I_R = R_s * I_s + R_p * I_p;\n",
    "    F1=GaussHermite(0,0,I_R,size/4,F);\n",
    "    F2=GaussHermite(0,0,I_T,size/4,F);\n",
    "    v.set( \"Reflected power = %5.3f mW\\n\"% I_R +\n",
    "        \"Transmitted power = %5.3f mW\\n\"%I_T\n",
    "        )\n",
    "    I1=Intensity(0,F1);\n",
    "    I2=Intensity(0,F2);\n",
    "    ax1.clear()\n",
    "    ax1.contourf(I1,50,vmin=0., vmax=1.,cmap='hot'); ax1.axis('off'); ax1.axis('equal')\n",
    "    ax1.set_title('Reflected irradiance') \n",
    "    ax2.clear()\n",
    "    ax2.contourf(I2,50,vmin=0., vmax=1.,cmap='hot'); ax2.axis('off'); ax2.axis('equal')\n",
    "    ax2.set_title('Transmitted irradiance')\n",
    "    canvas.draw()\n",
    "\n",
    "def openbrowser(event):\n",
    "    webbrowser.open_new(r\"https://opticspy.github.io/lightpipes/Reflect.html\")\n",
    "\n",
    "def _quit():\n",
    "    root.quit()\n",
    "\n",
    "\n",
    "\n",
    "Label(root, textvariable=v).pack(pady=50)\n",
    "\n",
    "Scale(  root,\n",
    "        takefocus=1,\n",
    "        orient='horizontal',\n",
    "        label = 'polarization angle [deg]',\n",
    "        length = 200, from_=0.000, to=90.0,\n",
    "        resolution = 0.01,\n",
    "        variable = phipol,\n",
    "        cursor=\"hand2\",\n",
    "        command = TheExample\n",
    "        ).pack()\n",
    "\n",
    "Scale(  root,\n",
    "        takefocus=1,\n",
    "        orient='horizontal',\n",
    "        label = 'angle of incidence [deg]',\n",
    "        length = 200,\n",
    "        from_=0.000, to=90.0,\n",
    "        resolution = 0.01,\n",
    "        variable = phiin,\n",
    "        cursor=\"hand2\",\n",
    "        command = TheExample\n",
    "        ).pack()\n",
    "\n",
    "Button( root,\n",
    "        width = 24,\n",
    "        text='Quit',\n",
    "        cursor=\"hand2\",\n",
    "        command=_quit).pack( pady=10)\n",
    "\n",
    "link = Label(root, text=\"help\", fg=\"blue\", cursor=\"hand2\")\n",
    "link.pack()\n",
    "link.bind(\"<Button-1>\", openbrowser)\n",
    "\n",
    "TheExample(0)\n",
    "\n",
    "root.mainloop()\n",
    "root.destroy()"
   ]
  },
  {
   "cell_type": "code",
   "execution_count": null,
   "metadata": {},
   "outputs": [],
   "source": []
  }
 ],
 "metadata": {
  "kernelspec": {
   "display_name": "Python 3",
   "language": "python",
   "name": "python3"
  },
  "language_info": {
   "codemirror_mode": {
    "name": "ipython",
    "version": 3
   },
   "file_extension": ".py",
   "mimetype": "text/x-python",
   "name": "python",
   "nbconvert_exporter": "python",
   "pygments_lexer": "ipython3",
   "version": "3.6.5"
  }
 },
 "nbformat": 4,
 "nbformat_minor": 2
}
