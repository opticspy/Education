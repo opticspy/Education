{
 "cells": [
  {
   "cell_type": "code",
   "execution_count": 1,
   "metadata": {},
   "outputs": [
    {
     "name": "stdout",
     "output_type": "stream",
     "text": [
      "Check if LightPipes has been installed. If not, install it!\n",
      "Requirement already satisfied: lightpipes in c:\\users\\fred\\anaconda3\\lib\\site-packages (1.1.3)\n"
     ]
    }
   ],
   "source": [
    "print(\"Check if LightPipes has been installed. If not, install it!\")\n",
    "!pip install lightpipes"
   ]
  },
  {
   "cell_type": "code",
   "execution_count": 2,
   "metadata": {},
   "outputs": [
    {
     "data": {
      "text/html": [
       "\n",
       "        <script>\n",
       "                code_show=true; \n",
       "                function code_toggle() \n",
       "                {\n",
       "                     if (code_show)\n",
       "                     {\n",
       "                         $('div.input').hide();\n",
       "                     } else\n",
       "                     {\n",
       "                         $('div.input').show();\n",
       "                     }\n",
       "                     code_show = !code_show\n",
       "                } \n",
       "                $( document ).ready(code_toggle);\n",
       "        </script>\n",
       "        The raw code for this IPython notebook is by default hidden for easier reading.\n",
       "        To toggle on/off the raw code, click <a href=\"javascript:code_toggle()\">here</a>.\n",
       "        "
      ],
      "text/plain": [
       "<IPython.core.display.HTML object>"
      ]
     },
     "execution_count": 2,
     "metadata": {},
     "output_type": "execute_result"
    }
   ],
   "source": [
    "from IPython.display import HTML\n",
    "HTML('''\n",
    "        <script>\n",
    "                code_show=true; \n",
    "                function code_toggle() \n",
    "                {\n",
    "                     if (code_show)\n",
    "                     {\n",
    "                         $('div.input').hide();\n",
    "                     } else\n",
    "                     {\n",
    "                         $('div.input').show();\n",
    "                     }\n",
    "                     code_show = !code_show\n",
    "                } \n",
    "                $( document ).ready(code_toggle);\n",
    "        </script>\n",
    "        The raw code for this IPython notebook is by default hidden for easier reading.\n",
    "        To toggle on/off the raw code, click <a href=\"javascript:code_toggle()\">here</a>.\n",
    "        ''')"
   ]
  },
  {
   "cell_type": "code",
   "execution_count": 3,
   "metadata": {},
   "outputs": [
    {
     "data": {
      "application/javascript": [
       "IPython.notebook.execute_cells_below()"
      ],
      "text/plain": [
       "<IPython.core.display.Javascript object>"
      ]
     },
     "metadata": {},
     "output_type": "display_data"
    },
    {
     "data": {
      "application/vnd.jupyter.widget-view+json": {
       "model_id": "15845915ef384aabb0911cdc98e4c32f",
       "version_major": 2,
       "version_minor": 0
      },
      "text/plain": [
       "Button(description='Start simulation', style=ButtonStyle(button_color='lightgreen'))"
      ]
     },
     "metadata": {},
     "output_type": "display_data"
    },
    {
     "data": {
      "application/vnd.jupyter.widget-view+json": {
       "model_id": "4e34f6826d3842339c169272ea15e2b1",
       "version_major": 2,
       "version_minor": 0
      },
      "text/plain": [
       "Button(description='Start simulation', style=ButtonStyle(button_color='lightgreen'))"
      ]
     },
     "metadata": {},
     "output_type": "display_data"
    }
   ],
   "source": [
    "import ipywidgets as widgets\n",
    "from IPython.display import Javascript, display\n",
    "def run_all(ev):\n",
    "    display(Javascript('IPython.notebook.execute_cells_below()'))\n",
    "button = widgets.Button(description=\"Start simulation\")\n",
    "button.style.button_color = 'lightgreen'\n",
    "button.on_click(run_all)\n",
    "display(button)"
   ]
  },
  {
   "cell_type": "code",
   "execution_count": null,
   "metadata": {},
   "outputs": [],
   "source": [
    "%%capture\n",
    "%matplotlib inline\n",
    "#!/usr/bin/env python\n",
    "\"\"\"\n",
    "    Computer practical 45. Fabry Perot interferometer.\n",
    "    ====================================================================\n",
    "\n",
    "    This is part of the 'computer practical' set of assignments.\n",
    "    Demonstrates the Fabry Perot interferometer.\n",
    "    Measure the distance between two wavelengths. \n",
    "    Find the refractive index of a medium between the two mirrors.\n",
    "    \n",
    "    ..  :copyright: (c) 2017 by Fred van Goor.\n",
    "    :license: MIT, see License for more details.\n",
    "    \n",
    "\"\"\"\n",
    "import matplotlib\n",
    "from matplotlib.backends.backend_tkagg import FigureCanvasTkAgg\n",
    "import matplotlib.pyplot as plt\n",
    "import sys\n",
    "import webbrowser\n",
    "\n",
    "if sys.version_info[0] < 3:\n",
    "    from Tkinter import *\n",
    "    import Tkinter as Tk\n",
    "    import tkMessageBox\n",
    "else:\n",
    "    from tkinter import *\n",
    "    import tkinter as Tk\n",
    "    from tkinter import messagebox\n",
    "from LightPipes import *\n",
    "import math\n",
    "\n",
    "root = Tk.Tk()\n",
    "root.wm_title(\"Computer practical: 5. Fabry Perot.        LP-version = \" + LPversion)\n",
    "root.wm_protocol(\"WM_DELETE_WINDOW\", root.quit)\n",
    "root.attributes(\"-topmost\", True)\n",
    "\n",
    "labda=550*nm;\n",
    "size=5*mm;\n",
    "N=300\n",
    "\n",
    "f=100*mm\n",
    "r=0.7\n",
    "d=6*mm\n",
    "Dlabda=0.0\n",
    "nmedium = 1.0\n",
    "k=2*math.pi/labda;\n",
    "\n",
    "D=DoubleVar()\n",
    "R=DoubleVar()\n",
    "DLABDA=DoubleVar()\n",
    "NMEDIUM=DoubleVar()\n",
    "\n",
    "D.set(d/mm)\n",
    "R.set(r)\n",
    "DLABDA.set(Dlabda/nm)\n",
    "NMEDIUM.set(nmedium)\n",
    "\n",
    "fig=plt.figure(figsize=(6,4))\n",
    "ax1 = fig.add_subplot(111)\n",
    "\n",
    "canvas = FigureCanvasTkAgg(fig, master=root)\n",
    "canvas._tkcanvas.pack(side=Tk.LEFT, fill=Tk.BOTH, expand=1)\n",
    "v=StringVar()\n",
    "\n",
    "#set the correct backend\n",
    "if sys.platform == 'darwin':\n",
    "    %matplotlib osx\n",
    "\n",
    "def TheExample(event):\n",
    "    global I\n",
    "    Dlabda=DLABDA.get()*nm\n",
    "    nmedium=NMEDIUM.get()\n",
    "    d=D.get()*mm\n",
    "    r=R.get()\n",
    "    k2 = 2 * math.pi / (labda + Dlabda)\n",
    "    Fin = 4.0 * r / (1.0 - r)\n",
    "    F=Begin(size,labda,N);\n",
    "    I=Intensity(1,F);\n",
    "    step = size / N/mm;\n",
    "    for i in range(1,N):\n",
    "        xray = i * step;\n",
    "        for j in range(1,N):\n",
    "            yray = j * step;\n",
    "            X =  xray*mm - size / 2;\n",
    "            Y =  yray*mm - size / 2;\n",
    "            radius = math.sqrt(X*X + Y*Y);\n",
    "            theta = radius / f;\n",
    "            delta2 = k * nmedium * d * math.cos(theta);\n",
    "            Inten = 0.5 / (1 + Fin * math.pow(math.sin(delta2), 2));\n",
    "            delta2 = k2 * nmedium * d * math.cos(theta);\n",
    "            I[i][j] = (Inten + 0.5 / (1 + Fin * math.pow(math.sin(delta2), 2)));\n",
    "    ax1.clear()\n",
    "    ax1.imshow(I,cmap='hot')\n",
    "    ax1.axis('off'); ax1.axis('equal');\n",
    "    str='Intensity distribution'\n",
    "    ax1.set_title(str)\n",
    "    canvas.draw()\n",
    "\n",
    "def motion(event):\n",
    "    x=event.xdata;y=event.ydata\n",
    "    if (x and y is not None and x>0 and x<N and y>0 and y<N):\n",
    "        v.set('x=%3.2f mm, y=%3.2f mm\\n I=%3.3f [a.u.]' %((-size/2+x*size/N)/mm,(-size/2+y*size/N)/mm,I[int(x)][int(y)]))\n",
    "        root.configure(cursor='crosshair')\n",
    "    else:\n",
    "        v.set('')\n",
    "        root.configure(cursor='arrow')\n",
    "\n",
    "def _quit():\n",
    "    root.quit()\n",
    "\n",
    "Scale(  root,\n",
    "        takefocus = 1,\n",
    "        orient='horizontal',\n",
    "        label = 'mirror reflectivity',\n",
    "        length = 200, from_=0.0, to=0.99,\n",
    "        resolution = 0.01,\n",
    "        variable = R,\n",
    "        cursor=\"hand2\",\n",
    "        command = TheExample).pack()\n",
    "        \n",
    "Scale(  root,\n",
    "        takefocus = 1,\n",
    "        orient='horizontal',\n",
    "        label = 'distance between mirrors [mm]',\n",
    "        length = 200, from_=0.0, to=10.000,\n",
    "        resolution = 0.001,\n",
    "        variable = D,\n",
    "        cursor=\"hand2\",\n",
    "        command = TheExample).pack()\n",
    "        \n",
    "def cb():\n",
    "    TheExample(0)\n",
    "    \n",
    "def openbrowser(event):\n",
    "    webbrowser.open_new(r\"https://opticspy.github.io/lightpipes/FabryPerot.html\")\n",
    "    \n",
    "Checkbutton(root,\n",
    "            text=\"insert medium between mirrors\",\n",
    "            onvalue=1.73,\n",
    "            offvalue=1.0,\n",
    "            variable=NMEDIUM,\n",
    "            cursor=\"hand2\",\n",
    "            command = cb).pack()\n",
    "            \n",
    "Checkbutton(root,\n",
    "            text=\"dual wavelength\",\n",
    "            onvalue=1.8,\n",
    "            offvalue=0.0,\n",
    "            variable=DLABDA,\n",
    "            cursor=\"hand2\",\n",
    "            command = cb).pack()\n",
    "            \n",
    "Button( root,\n",
    "        width = 24,\n",
    "        text='Quit',\n",
    "        cursor=\"hand2\",\n",
    "        command=_quit).pack(pady=10)\n",
    "        \n",
    "link = Label(root, text=\"help\", fg=\"blue\", cursor=\"hand2\")\n",
    "link.pack()\n",
    "link.bind(\"<Button-1>\", openbrowser)\n",
    "\n",
    "Label(root, textvariable=v).pack(pady=50)\n",
    "\n",
    "cid = fig.canvas.mpl_connect('motion_notify_event', motion)\n",
    "\n",
    "TheExample(0)\n",
    "root.mainloop()\n",
    "root.destroy()"
   ]
  },
  {
   "cell_type": "code",
   "execution_count": null,
   "metadata": {},
   "outputs": [],
   "source": []
  }
 ],
 "metadata": {
  "kernelspec": {
   "display_name": "Python 3",
   "language": "python",
   "name": "python3"
  },
  "language_info": {
   "codemirror_mode": {
    "name": "ipython",
    "version": 3
   },
   "file_extension": ".py",
   "mimetype": "text/x-python",
   "name": "python",
   "nbconvert_exporter": "python",
   "pygments_lexer": "ipython3",
   "version": "3.6.5"
  }
 },
 "nbformat": 4,
 "nbformat_minor": 2
}
