{
 "cells": [
  {
   "cell_type": "code",
   "execution_count": 1,
   "metadata": {},
   "outputs": [
    {
     "name": "stdout",
     "output_type": "stream",
     "text": [
      "Check if LightPipes has been installed. If not, install it!\n",
      "Requirement already satisfied: lightpipes in c:\\users\\fred\\anaconda3\\lib\\site-packages (1.1.3)\n"
     ]
    }
   ],
   "source": [
    "print(\"Check if LightPipes has been installed. If not, install it!\")\n",
    "!pip install lightpipes"
   ]
  },
  {
   "cell_type": "code",
   "execution_count": 2,
   "metadata": {},
   "outputs": [
    {
     "data": {
      "text/html": [
       "\n",
       "        <script>\n",
       "                code_show=true; \n",
       "                function code_toggle() \n",
       "                {\n",
       "                     if (code_show)\n",
       "                     {\n",
       "                         $('div.input').hide();\n",
       "                     } else\n",
       "                     {\n",
       "                         $('div.input').show();\n",
       "                     }\n",
       "                     code_show = !code_show\n",
       "                } \n",
       "                $( document ).ready(code_toggle);\n",
       "        </script>\n",
       "        The raw code for this IPython notebook is by default hidden for easier reading.\n",
       "        To toggle on/off the raw code, click <a href=\"javascript:code_toggle()\">here</a>.\n",
       "        "
      ],
      "text/plain": [
       "<IPython.core.display.HTML object>"
      ]
     },
     "execution_count": 2,
     "metadata": {},
     "output_type": "execute_result"
    }
   ],
   "source": [
    "from IPython.display import HTML\n",
    "HTML('''\n",
    "        <script>\n",
    "                code_show=true; \n",
    "                function code_toggle() \n",
    "                {\n",
    "                     if (code_show)\n",
    "                     {\n",
    "                         $('div.input').hide();\n",
    "                     } else\n",
    "                     {\n",
    "                         $('div.input').show();\n",
    "                     }\n",
    "                     code_show = !code_show\n",
    "                } \n",
    "                $( document ).ready(code_toggle);\n",
    "        </script>\n",
    "        The raw code for this IPython notebook is by default hidden for easier reading.\n",
    "        To toggle on/off the raw code, click <a href=\"javascript:code_toggle()\">here</a>.\n",
    "        ''')"
   ]
  },
  {
   "cell_type": "code",
   "execution_count": 3,
   "metadata": {},
   "outputs": [
    {
     "data": {
      "application/javascript": [
       "IPython.notebook.execute_cells_below()"
      ],
      "text/plain": [
       "<IPython.core.display.Javascript object>"
      ]
     },
     "metadata": {},
     "output_type": "display_data"
    },
    {
     "data": {
      "application/vnd.jupyter.widget-view+json": {
       "model_id": "637c0951095846fc8a421704894d7fff",
       "version_major": 2,
       "version_minor": 0
      },
      "text/plain": [
       "Button(description='Start simulation', style=ButtonStyle(button_color='lightgreen'))"
      ]
     },
     "metadata": {},
     "output_type": "display_data"
    },
    {
     "data": {
      "application/vnd.jupyter.widget-view+json": {
       "model_id": "254c4ec819a440289e714eee3db86625",
       "version_major": 2,
       "version_minor": 0
      },
      "text/plain": [
       "Button(description='Start simulation', style=ButtonStyle(button_color='lightgreen'))"
      ]
     },
     "metadata": {},
     "output_type": "display_data"
    }
   ],
   "source": [
    "import ipywidgets as widgets\n",
    "from IPython.display import Javascript, display\n",
    "def run_all(ev):\n",
    "    display(Javascript('IPython.notebook.execute_cells_below()'))\n",
    "button = widgets.Button(description=\"Start simulation\")\n",
    "button.style.button_color = 'lightgreen'\n",
    "button.on_click(run_all)\n",
    "display(button)"
   ]
  },
  {
   "cell_type": "code",
   "execution_count": 4,
   "metadata": {},
   "outputs": [
    {
     "data": {
      "image/png": "[encoded data removed]",
      "text/plain": [
       "<Figure size 576x576 with 1 Axes>"
      ]
     },
     "metadata": {},
     "output_type": "display_data"
    }
   ],
   "source": [
    "%matplotlib inline\n",
    "#!/usr/bin/env python\n",
    "\"\"\"\n",
    "    Computer practical 6.2. Fresnel diffraction, spherical wavefront.\n",
    "    =================================================================\n",
    "\n",
    "    This is part of the 'computer practical' set of assignments.\n",
    "    Demonstrates Fresnel diffraction when a spherical wavefront enters \n",
    "    a round hole.\n",
    "    Measure the values of z1, z2 and d for which minima and/or maxima on-axis occur\n",
    "    and apply the Fresnel-zone theory to find the wavelength of the light.\n",
    "\"\"\"\n",
    "import matplotlib\n",
    "from matplotlib.backends.backend_tkagg import FigureCanvasTkAgg\n",
    "import matplotlib.pyplot as plt\n",
    "import sys\n",
    "import math\n",
    "import webbrowser\n",
    "\n",
    "if sys.version_info[0] < 3:\n",
    "    from Tkinter import *\n",
    "    import Tkinter as Tk\n",
    "else:\n",
    "    from tkinter import *\n",
    "    import tkinter as Tk\n",
    "from LightPipes import *\n",
    "\n",
    "root = Tk.Tk()\n",
    "root.wm_title(\"Computer practical: 6.2 Fresnel spherical wavefront.        LP-version = \" + LPversion)\n",
    "root.wm_protocol(\"WM_DELETE_WINDOW\", root.quit)\n",
    "\n",
    "wavelength=493*nm\n",
    "size=5*mm\n",
    "N=200;N2=int(N/2)\n",
    "\n",
    "z1=50*cm\n",
    "z2=20*cm\n",
    "R=0.5*mm\n",
    "\n",
    "D=DoubleVar()\n",
    "Z1=DoubleVar()\n",
    "Z2=DoubleVar()\n",
    "D.set(2*R/mm)\n",
    "Z1.set(z1/cm)\n",
    "Z2.set(z2/cm)\n",
    "\n",
    "fig=plt.figure(figsize=(8,8))\n",
    "ax1 = fig.add_subplot(111)\n",
    "\n",
    "canvas = FigureCanvasTkAgg(fig, master=root)\n",
    "canvas._tkcanvas.pack(side=Tk.LEFT, fill=Tk.BOTH, expand=1)\n",
    "v=StringVar()\n",
    "\n",
    "#set the correct backend\n",
    "if sys.platform == 'darwin':\n",
    "    %matplotlib osx\n",
    "\n",
    "def TheExample(event):\n",
    "    global I\n",
    "    F=Begin(size,wavelength,N)\n",
    "    F=GaussHermite(0,0,1.0,size/3,F)\n",
    "    z1=Z1.get()*cm\n",
    "    z2=Z2.get()*cm\n",
    "    R=D.get()/2*mm\n",
    "    F=CircAperture(R,0,0,F)\n",
    "    F=Lens(-z1,0,0,F)\n",
    "    FN=2/wavelength*(math.sqrt(z2*z2+R*R)-z2)\n",
    "    if (FN >= 15.0):\n",
    "        F=Forvard(z2,F)\n",
    "    else:\n",
    "        F=Fresnel(z2,F)\n",
    "    I=Intensity(0,F)\n",
    " \n",
    "    ax1.clear()\n",
    "    ax1.contourf(I,50,cmap='hot'); ax1.axis('off'); ax1.axis('equal')\n",
    "    str='Intensity distribution\\ncenter-irradiance = %3.3f [a.u.]' %I[N2][N2]\n",
    "    ax1.set_title(str) \n",
    "    canvas.draw()\n",
    "\n",
    "def motion(event):\n",
    "    x=event.xdata;y=event.ydata\n",
    "    if (x and y is not None and x>0 and x<N and y>0 and y<N):\n",
    "        v.set('x=%3.2f mm, y=%3.2f mm\\n I=%3.3f [a.u.]' %((-size/2+x*size/N)/mm,(-size/2+y*size/N)/mm,I[int(x)][int(y)]))\n",
    "        root.configure(cursor='crosshair')\n",
    "    else:\n",
    "        v.set('')\n",
    "        root.configure(cursor='arrow')\n",
    "\n",
    "def openbrowser(event):\n",
    "    webbrowser.open_new(r\"https://opticspy.github.io/lightpipes/FresnelDiffraction.html\")\n",
    "\n",
    "def _quit():\n",
    "    root.quit()\n",
    "\n",
    "Scale(  root,\n",
    "        takefocus = 1,\n",
    "        orient='horizontal',\n",
    "        label = 'diameter aperture [mm]',\n",
    "        length = 200, from_=0.5, to=size/2/mm,\n",
    "        resolution = 0.001,\n",
    "        variable = D,\n",
    "        cursor=\"hand2\",\n",
    "        command = TheExample).pack()\n",
    "\n",
    "Scale(  root,\n",
    "        orient='horizontal',\n",
    "        takefocus = 1,\n",
    "        label = 'z1 [cm]',\n",
    "        length = 200,\n",
    "        from_=0.01, to=200.0,\n",
    "        resolution = 0.01,\n",
    "        variable = Z1,\n",
    "        cursor=\"hand2\",\n",
    "        command = TheExample).pack()\n",
    "\n",
    "Scale(  root,\n",
    "        orient='horizontal',\n",
    "        takefocus = 1,\n",
    "        label = 'z2 [cm]',\n",
    "        length = 200,\n",
    "        from_=0.01, to=200.0,\n",
    "        resolution = 0.01,\n",
    "        variable = Z2,\n",
    "        cursor=\"hand2\",\n",
    "        command = TheExample).pack()\n",
    "\n",
    "Button( root,\n",
    "        width = 24,\n",
    "        text='Quit',\n",
    "        cursor=\"hand2\",\n",
    "        command=_quit).pack(pady=10)\n",
    "\n",
    "link = Label(root, text=\"help\", fg=\"blue\", cursor=\"hand2\")\n",
    "link.pack()\n",
    "link.bind(\"<Button-1>\", openbrowser)\n",
    "\n",
    "Label(root, textvariable=v).pack(pady=50)\n",
    "\n",
    "cid = fig.canvas.mpl_connect('motion_notify_event', motion)\n",
    "\n",
    "TheExample(0)\n",
    "root.mainloop()\n",
    "root.destroy()\n"
   ]
  },
  {
   "cell_type": "code",
   "execution_count": null,
   "metadata": {},
   "outputs": [],
   "source": []
  }
 ],
 "metadata": {
  "kernelspec": {
   "display_name": "Python 3",
   "language": "python",
   "name": "python3"
  },
  "language_info": {
   "codemirror_mode": {
    "name": "ipython",
    "version": 3
   },
   "file_extension": ".py",
   "mimetype": "text/x-python",
   "name": "python",
   "nbconvert_exporter": "python",
   "pygments_lexer": "ipython3",
   "version": "3.6.5"
  }
 },
 "nbformat": 4,
 "nbformat_minor": 2
}
