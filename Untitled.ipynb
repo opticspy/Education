{
 "cells": [
  {
   "cell_type": "code",
   "execution_count": 1,
   "metadata": {},
   "outputs": [
    {
     "name": "stdout",
     "output_type": "stream",
     "text": [
      "Check if LightPipes has been installed. If not, install it!\n",
      "Requirement already satisfied: lightpipes in c:\\users\\fred\\anaconda3\\lib\\site-packages (1.1.3)\n"
     ]
    }
   ],
   "source": [
    "print(\"Check if LightPipes has been installed. If not, install it!\")\n",
    "!pip install lightpipes"
   ]
  },
  {
   "cell_type": "code",
   "execution_count": 3,
   "metadata": {},
   "outputs": [
    {
     "data": {
      "text/html": [
       "\n",
       "        <script>\n",
       "                code_show=true; \n",
       "                function code_toggle() \n",
       "                {\n",
       "                     if (code_show)\n",
       "                     {\n",
       "                         $('div.input').hide();\n",
       "                     } else\n",
       "                     {\n",
       "                         $('div.input').show();\n",
       "                     }\n",
       "                     code_show = !code_show\n",
       "                } \n",
       "                $( document ).ready(code_toggle);\n",
       "        </script>\n",
       "        The raw code for this IPython notebook is by default hidden for easier reading.\n",
       "        To toggle on/off the raw code, click <a href=\"javascript:code_toggle()\">here</a>.\n",
       "        "
      ],
      "text/plain": [
       "<IPython.core.display.HTML object>"
      ]
     },
     "execution_count": 3,
     "metadata": {},
     "output_type": "execute_result"
    }
   ],
   "source": [
    "from IPython.display import HTML\n",
    "HTML('''\n",
    "        <script>\n",
    "                code_show=true; \n",
    "                function code_toggle() \n",
    "                {\n",
    "                     if (code_show)\n",
    "                     {\n",
    "                         $('div.input').hide();\n",
    "                     } else\n",
    "                     {\n",
    "                         $('div.input').show();\n",
    "                     }\n",
    "                     code_show = !code_show\n",
    "                } \n",
    "                $( document ).ready(code_toggle);\n",
    "        </script>\n",
    "        The raw code for this IPython notebook is by default hidden for easier reading.\n",
    "        To toggle on/off the raw code, click <a href=\"javascript:code_toggle()\">here</a>.\n",
    "        ''')"
   ]
  },
  {
   "cell_type": "code",
   "execution_count": 4,
   "metadata": {},
   "outputs": [
    {
     "data": {
      "application/vnd.jupyter.widget-view+json": {
       "model_id": "f38a03d2e76c47b6874438d6501dbe34",
       "version_major": 2,
       "version_minor": 0
      },
      "text/plain": [
       "Button(description='Start simulation', style=ButtonStyle(button_color='lightgreen'))"
      ]
     },
     "metadata": {},
     "output_type": "display_data"
    }
   ],
   "source": [
    "import ipywidgets as widgets\n",
    "from IPython.display import Javascript, display\n",
    "def run_all(ev):\n",
    "    display(Javascript('IPython.notebook.execute_cells_below()'))\n",
    "button = widgets.Button(description=\"Start simulation\")\n",
    "button.style.button_color = 'lightgreen'\n",
    "button.on_click(run_all)\n",
    "display(button)"
   ]
  },
  {
   "cell_type": "code",
   "execution_count": null,
   "metadata": {},
   "outputs": [],
   "source": []
  }
 ],
 "metadata": {
  "kernelspec": {
   "display_name": "Python 3",
   "language": "python",
   "name": "python3"
  },
  "language_info": {
   "codemirror_mode": {
    "name": "ipython",
    "version": 3
   },
   "file_extension": ".py",
   "mimetype": "text/x-python",
   "name": "python",
   "nbconvert_exporter": "python",
   "pygments_lexer": "ipython3",
   "version": "3.6.5"
  }
 },
 "nbformat": 4,
 "nbformat_minor": 2
}
